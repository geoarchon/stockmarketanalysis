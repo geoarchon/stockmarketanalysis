{
 "cells": [
  {
   "cell_type": "code",
   "execution_count": 10,
   "id": "55e2e5ca",
   "metadata": {},
   "outputs": [],
   "source": [
    "import time\n",
    "import sys\n",
    "from selenium import webdriver\n",
    "from selenium.webdriver.support.ui import WebDriverWait\n",
    "from selenium.webdriver.support import expected_conditions as EC\n",
    "from selenium.webdriver.common.by import By\n",
    "from selenium.common.exceptions import TimeoutException\n",
    "from bs4 import BeautifulSoup \n",
    "from newspaper import Article\n",
    "from datetime import date"
   ]
  },
  {
   "cell_type": "code",
   "execution_count": 11,
   "id": "454fbdc9",
   "metadata": {},
   "outputs": [],
   "source": [
    "def getDate(url):\n",
    "    article = Article(url)\n",
    "    article.download()\n",
    "    article.parse()\n",
    "    return(article.publish_date)\n",
    "    # function to fetch some of the dates where x days ago, x weeks ago appears\n",
    "\n",
    "def news(url):\n",
    "    driver.get(url)\n",
    "    time.sleep(10)\n",
    "    # Parse content with BeautifulSoup\n",
    "    soup=BeautifulSoup(driver.page_source,'html5lib')\n",
    "    #print(soup.prettify()) to check the raw html\n",
    "    for item in soup.find_all('div', attrs={'class':'dbsr'}):\n",
    "        #raw_link = (item.find('a', href=True)['href'])\n",
    "        #link = raw_link#.split(\"/url?q=\")[1].split(\"&sa=U&\")[0]\n",
    "        title=(item.find('div', attrs={'class': 'JheGif nDgy9d'})).get_text()\n",
    "        description=(item.find('div', attrs={'class': 'Y3v8qd'})).get_text()\n",
    "        mydate=(((item.find('span', attrs={'class':'WG9SHc'}))).find('span')).get_text()\n",
    "        #format the data\n",
    "        mydate=mydate.replace(\",\",\"\")\n",
    "        title=title.replace(\",\",\"\")\n",
    "        description=description.replace(\",\",\"\")\n",
    "        description=description.replace(\"\\n\",\" \")\n",
    "        title=title.replace(\"\\n\",\" \")\n",
    "        #to read and write \n",
    "        document = open(\"data3.csv\", \"a\",encoding=\"utf-8\")\n",
    "        document.write(\"{}, {}, {} \\n\".format(mydate, title, description))\n",
    "        document.close()\n",
    "    next = soup.find('a', attrs={'id':'pnnext'})\n",
    "    try:\n",
    "        next = (next['href'])\n",
    "        url = root + next\n",
    "    except TypeError:\n",
    "        #sys.exit() #exit when eof is reached\n",
    "        return\n",
    "    news(url) # recursive call to cover all pages of given search term\n",
    "\n",
    "month1 = date.today().month-1 # give starting month\n",
    "month2 = date.today().month # give ending month\n",
    "# news article info will be collected from month1 to month2 (both inclusive)\n",
    "d1=d2=date.today().day #for 1 month data\n",
    "m1=m2=0\n",
    "y1=y2=date.today().year\n",
    "flag=0\n",
    "\n",
    "for x in range(month1,month2):\n",
    "    #flag=flag+1\n",
    "    #if(flag == 2):\n",
    "        #break\n",
    "    # uncomment the previous 2 lines if you want to just test the code with one month of data\n",
    "    driver_path = 'chromedriver.exe'\n",
    "    driver = webdriver.Chrome(executable_path=driver_path)\n",
    "    m1=x\n",
    "    m2=x+1\n",
    "    root = \"https://www.google.com/\"\n",
    "    url = \"https://www.google.com/search?q=hdfc&rlz=1C1CHBF_enIN855IN856&biw=2048&bih=972&sxsrf=ALeKk01uXoYzhgyOm6VhkA2LkuH9pLLizg%3A1626762392480&source=lnt&tbs=cdr%3A1%2Ccd_min%3A\"+str(m1)+\"%2F\"+str(d1)+\"%2F\"+str(y1)+\"%2Ccd_max%3A\"+str(m2)+\"%2F\"+str(d2)+\"%2F\"+str(y2)+\"&tbm=nws\"\n",
    "    news(url) # initial call to function"
   ]
  },
  {
   "cell_type": "code",
   "execution_count": null,
   "id": "74601d24",
   "metadata": {},
   "outputs": [],
   "source": []
  },
  {
   "cell_type": "code",
   "execution_count": null,
   "id": "d7faf46d",
   "metadata": {},
   "outputs": [],
   "source": []
  }
 ],
 "metadata": {
  "kernelspec": {
   "display_name": "Python 3",
   "language": "python",
   "name": "python3"
  },
  "language_info": {
   "codemirror_mode": {
    "name": "ipython",
    "version": 3
   },
   "file_extension": ".py",
   "mimetype": "text/x-python",
   "name": "python",
   "nbconvert_exporter": "python",
   "pygments_lexer": "ipython3",
   "version": "3.9.5"
  }
 },
 "nbformat": 4,
 "nbformat_minor": 5
}
